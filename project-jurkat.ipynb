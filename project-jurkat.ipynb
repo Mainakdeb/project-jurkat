{
  "nbformat": 4,
  "nbformat_minor": 0,
  "metadata": {
    "colab": {
      "name": "cell_dataset_exp_Jurkat.ipynb",
      "provenance": [],
      "collapsed_sections": [],
      "authorship_tag": "ABX9TyNnNFf1I0lyrM1y3GvuQ+aX",
      "include_colab_link": true
    },
    "kernelspec": {
      "name": "python3",
      "display_name": "Python 3"
    },
    "accelerator": "GPU",
    "widgets": {
      "application/vnd.jupyter.widget-state+json": {
        "9f13ae2b0cd249f7bba2588a451fc860": {
          "model_module": "@jupyter-widgets/controls",
          "model_name": "HBoxModel",
          "state": {
            "_view_name": "HBoxView",
            "_dom_classes": [],
            "_model_name": "HBoxModel",
            "_view_module": "@jupyter-widgets/controls",
            "_model_module_version": "1.5.0",
            "_view_count": null,
            "_view_module_version": "1.5.0",
            "box_style": "",
            "layout": "IPY_MODEL_011929d1a5524b49a32d1b90fde61e0d",
            "_model_module": "@jupyter-widgets/controls",
            "children": [
              "IPY_MODEL_196128ecea0b47de93d49cd2078b0137",
              "IPY_MODEL_0f2223ac236942b0828cb8854caa7c8d"
            ]
          }
        },
        "011929d1a5524b49a32d1b90fde61e0d": {
          "model_module": "@jupyter-widgets/base",
          "model_name": "LayoutModel",
          "state": {
            "_view_name": "LayoutView",
            "grid_template_rows": null,
            "right": null,
            "justify_content": null,
            "_view_module": "@jupyter-widgets/base",
            "overflow": null,
            "_model_module_version": "1.2.0",
            "_view_count": null,
            "flex_flow": null,
            "width": null,
            "min_width": null,
            "border": null,
            "align_items": null,
            "bottom": null,
            "_model_module": "@jupyter-widgets/base",
            "top": null,
            "grid_column": null,
            "overflow_y": null,
            "overflow_x": null,
            "grid_auto_flow": null,
            "grid_area": null,
            "grid_template_columns": null,
            "flex": null,
            "_model_name": "LayoutModel",
            "justify_items": null,
            "grid_row": null,
            "max_height": null,
            "align_content": null,
            "visibility": null,
            "align_self": null,
            "height": null,
            "min_height": null,
            "padding": null,
            "grid_auto_rows": null,
            "grid_gap": null,
            "max_width": null,
            "order": null,
            "_view_module_version": "1.2.0",
            "grid_template_areas": null,
            "object_position": null,
            "object_fit": null,
            "grid_auto_columns": null,
            "margin": null,
            "display": null,
            "left": null
          }
        },
        "196128ecea0b47de93d49cd2078b0137": {
          "model_module": "@jupyter-widgets/controls",
          "model_name": "FloatProgressModel",
          "state": {
            "_view_name": "ProgressView",
            "style": "IPY_MODEL_95d7ca94fa3e4f7091a47a1ee5f8bdec",
            "_dom_classes": [],
            "description": "  0%",
            "_model_name": "FloatProgressModel",
            "bar_style": "danger",
            "max": 3155,
            "_view_module": "@jupyter-widgets/controls",
            "_model_module_version": "1.5.0",
            "value": 0,
            "_view_count": null,
            "_view_module_version": "1.5.0",
            "orientation": "horizontal",
            "min": 0,
            "description_tooltip": null,
            "_model_module": "@jupyter-widgets/controls",
            "layout": "IPY_MODEL_770643677e3e45a5925e5fec1225927a"
          }
        },
        "0f2223ac236942b0828cb8854caa7c8d": {
          "model_module": "@jupyter-widgets/controls",
          "model_name": "HTMLModel",
          "state": {
            "_view_name": "HTMLView",
            "style": "IPY_MODEL_6abc9134d3cd41458340bbce123d31b0",
            "_dom_classes": [],
            "description": "",
            "_model_name": "HTMLModel",
            "placeholder": "​",
            "_view_module": "@jupyter-widgets/controls",
            "_model_module_version": "1.5.0",
            "value": " 0/3155 [00:00&lt;?, ?it/s]",
            "_view_count": null,
            "_view_module_version": "1.5.0",
            "description_tooltip": null,
            "_model_module": "@jupyter-widgets/controls",
            "layout": "IPY_MODEL_fe7545a7ea17408496edcbf1f72931d0"
          }
        },
        "95d7ca94fa3e4f7091a47a1ee5f8bdec": {
          "model_module": "@jupyter-widgets/controls",
          "model_name": "ProgressStyleModel",
          "state": {
            "_view_name": "StyleView",
            "_model_name": "ProgressStyleModel",
            "description_width": "initial",
            "_view_module": "@jupyter-widgets/base",
            "_model_module_version": "1.5.0",
            "_view_count": null,
            "_view_module_version": "1.2.0",
            "bar_color": null,
            "_model_module": "@jupyter-widgets/controls"
          }
        },
        "770643677e3e45a5925e5fec1225927a": {
          "model_module": "@jupyter-widgets/base",
          "model_name": "LayoutModel",
          "state": {
            "_view_name": "LayoutView",
            "grid_template_rows": null,
            "right": null,
            "justify_content": null,
            "_view_module": "@jupyter-widgets/base",
            "overflow": null,
            "_model_module_version": "1.2.0",
            "_view_count": null,
            "flex_flow": null,
            "width": null,
            "min_width": null,
            "border": null,
            "align_items": null,
            "bottom": null,
            "_model_module": "@jupyter-widgets/base",
            "top": null,
            "grid_column": null,
            "overflow_y": null,
            "overflow_x": null,
            "grid_auto_flow": null,
            "grid_area": null,
            "grid_template_columns": null,
            "flex": null,
            "_model_name": "LayoutModel",
            "justify_items": null,
            "grid_row": null,
            "max_height": null,
            "align_content": null,
            "visibility": null,
            "align_self": null,
            "height": null,
            "min_height": null,
            "padding": null,
            "grid_auto_rows": null,
            "grid_gap": null,
            "max_width": null,
            "order": null,
            "_view_module_version": "1.2.0",
            "grid_template_areas": null,
            "object_position": null,
            "object_fit": null,
            "grid_auto_columns": null,
            "margin": null,
            "display": null,
            "left": null
          }
        },
        "6abc9134d3cd41458340bbce123d31b0": {
          "model_module": "@jupyter-widgets/controls",
          "model_name": "DescriptionStyleModel",
          "state": {
            "_view_name": "StyleView",
            "_model_name": "DescriptionStyleModel",
            "description_width": "",
            "_view_module": "@jupyter-widgets/base",
            "_model_module_version": "1.5.0",
            "_view_count": null,
            "_view_module_version": "1.2.0",
            "_model_module": "@jupyter-widgets/controls"
          }
        },
        "fe7545a7ea17408496edcbf1f72931d0": {
          "model_module": "@jupyter-widgets/base",
          "model_name": "LayoutModel",
          "state": {
            "_view_name": "LayoutView",
            "grid_template_rows": null,
            "right": null,
            "justify_content": null,
            "_view_module": "@jupyter-widgets/base",
            "overflow": null,
            "_model_module_version": "1.2.0",
            "_view_count": null,
            "flex_flow": null,
            "width": null,
            "min_width": null,
            "border": null,
            "align_items": null,
            "bottom": null,
            "_model_module": "@jupyter-widgets/base",
            "top": null,
            "grid_column": null,
            "overflow_y": null,
            "overflow_x": null,
            "grid_auto_flow": null,
            "grid_area": null,
            "grid_template_columns": null,
            "flex": null,
            "_model_name": "LayoutModel",
            "justify_items": null,
            "grid_row": null,
            "max_height": null,
            "align_content": null,
            "visibility": null,
            "align_self": null,
            "height": null,
            "min_height": null,
            "padding": null,
            "grid_auto_rows": null,
            "grid_gap": null,
            "max_width": null,
            "order": null,
            "_view_module_version": "1.2.0",
            "grid_template_areas": null,
            "object_position": null,
            "object_fit": null,
            "grid_auto_columns": null,
            "margin": null,
            "display": null,
            "left": null
          }
        }
      }
    }
  },
  "cells": [
    {
      "cell_type": "markdown",
      "metadata": {
        "id": "view-in-github",
        "colab_type": "text"
      },
      "source": [
        "<a href=\"https://colab.research.google.com/github/Mainakdeb/project-jurkat/blob/main/project-jurkat.ipynb\" target=\"_parent\"><img src=\"https://colab.research.google.com/assets/colab-badge.svg\" alt=\"Open In Colab\"/></a>"
      ]
    },
    {
      "cell_type": "code",
      "metadata": {
        "id": "r9wHZPySdaho"
      },
      "source": [
        "import pandas as pd\r\n",
        "import torch\r\n",
        "from torch.utils.data import DataLoader\r\n",
        "from torch.utils.data import Dataset\r\n",
        "from albumentations import *\r\n",
        "import torchvision.transforms as transforms\r\n",
        "from tqdm.notebook import tnrange, tqdm\r\n",
        "import cv2\r\n",
        "import numpy as np\r\n",
        "from PIL import Image\r\n",
        "import matplotlib.pyplot as plt"
      ],
      "execution_count": 114,
      "outputs": []
    },
    {
      "cell_type": "code",
      "metadata": {
        "colab": {
          "base_uri": "https://localhost:8080/"
        },
        "id": "lqc__28L6km7",
        "outputId": "ce96a1b9-e969-496a-abab-908a20af6567"
      },
      "source": [
        "!wget https://data.broadinstitute.org/bbbc/BBBC048/BBBC048v1.zip"
      ],
      "execution_count": 19,
      "outputs": [
        {
          "output_type": "stream",
          "text": [
            "--2021-02-19 06:17:24--  https://data.broadinstitute.org/bbbc/BBBC048/BBBC048v1.zip\n",
            "Resolving data.broadinstitute.org (data.broadinstitute.org)... 69.173.92.29\n",
            "Connecting to data.broadinstitute.org (data.broadinstitute.org)|69.173.92.29|:443... connected.\n",
            "HTTP request sent, awaiting response... 200 OK\n",
            "Length: 1611429608 (1.5G) [application/zip]\n",
            "Saving to: ‘BBBC048v1.zip.1’\n",
            "\n",
            "BBBC048v1.zip.1     100%[===================>]   1.50G  13.1MB/s    in 88s     \n",
            "\n",
            "2021-02-19 06:18:53 (17.4 MB/s) - ‘BBBC048v1.zip.1’ saved [1611429608/1611429608]\n",
            "\n"
          ],
          "name": "stdout"
        }
      ]
    },
    {
      "cell_type": "code",
      "metadata": {
        "id": "SPi1jk2L64Li",
        "colab": {
          "base_uri": "https://localhost:8080/"
        },
        "outputId": "91445bdd-628e-4c84-de20-b40024953624"
      },
      "source": [
        "!wget https://data.broadinstitute.org/bbbc/BBBC048/Ground_truth.lst"
      ],
      "execution_count": 20,
      "outputs": [
        {
          "output_type": "stream",
          "text": [
            "--2021-02-19 06:18:53--  https://data.broadinstitute.org/bbbc/BBBC048/Ground_truth.lst\n",
            "Resolving data.broadinstitute.org (data.broadinstitute.org)... 69.173.92.29\n",
            "Connecting to data.broadinstitute.org (data.broadinstitute.org)|69.173.92.29|:443... connected.\n",
            "HTTP request sent, awaiting response... 200 OK\n",
            "Length: 2955854 (2.8M)\n",
            "Saving to: ‘Ground_truth.lst.1’\n",
            "\n",
            "Ground_truth.lst.1  100%[===================>]   2.82M  9.38MB/s    in 0.3s    \n",
            "\n",
            "2021-02-19 06:18:53 (9.38 MB/s) - ‘Ground_truth.lst.1’ saved [2955854/2955854]\n",
            "\n"
          ],
          "name": "stdout"
        }
      ]
    },
    {
      "cell_type": "code",
      "metadata": {
        "id": "BPeDfchS2_7a"
      },
      "source": [
        "!unzip \"/content/BBBC048v1.zip\""
      ],
      "execution_count": null,
      "outputs": []
    },
    {
      "cell_type": "code",
      "metadata": {
        "id": "Dn6yCOFI5H6_"
      },
      "source": [
        "!unzip \"/content/CellCycle.zip\""
      ],
      "execution_count": null,
      "outputs": []
    },
    {
      "cell_type": "code",
      "metadata": {
        "id": "EOD61hs_7NGd",
        "colab": {
          "base_uri": "https://localhost:8080/"
        },
        "outputId": "ab0d2c43-a401-4841-d2bc-0c2d6abeaa2a"
      },
      "source": [
        "my_file = open(\"/content/Ground_truth.lst\", \"r\")\r\n",
        "content = my_file.read()\r\n",
        "print(type(content))\r\n",
        "print(content[0:200])"
      ],
      "execution_count": 23,
      "outputs": [
        {
          "output_type": "stream",
          "text": [
            "<class 'str'>\n",
            "19\t0\t./Anaphase/12432_Ch3.ome.jpg\n",
            "8\t0\t./Anaphase/12432_Ch4.ome.jpg\n",
            "35\t0\t./Anaphase/12432_Ch6.ome.jpg\n",
            "36\t0\t./Anaphase/22004_Ch3.ome.jpg\n",
            "1\t0\t./Anaphase/22004_Ch4.ome.jpg\n",
            "42\t0\t./Anaphase/22004_Ch6.ome.jp\n"
          ],
          "name": "stdout"
        }
      ]
    },
    {
      "cell_type": "code",
      "metadata": {
        "id": "E6SKzLdA7jXH"
      },
      "source": [
        "dataframe1 = pd.read_csv(\"/content/Ground_truth.lst\",\r\n",
        "                          header=None) "
      ],
      "execution_count": 24,
      "outputs": []
    },
    {
      "cell_type": "code",
      "metadata": {
        "id": "lWmvfSwe8d7_",
        "colab": {
          "base_uri": "https://localhost:8080/",
          "height": 406
        },
        "outputId": "edf312a4-cf33-4110-84e6-6058d6ece95d"
      },
      "source": [
        "df=dataframe1[0].str.split(expand=True)\r\n",
        "df=df.sample(frac=1)\r\n",
        "df\r\n",
        "\r\n",
        "#imagefolder seems like the easier option\r\n",
        "#does torch lightning auto mksf?\r\n"
      ],
      "execution_count": 25,
      "outputs": [
        {
          "output_type": "execute_result",
          "data": {
            "text/html": [
              "<div>\n",
              "<style scoped>\n",
              "    .dataframe tbody tr th:only-of-type {\n",
              "        vertical-align: middle;\n",
              "    }\n",
              "\n",
              "    .dataframe tbody tr th {\n",
              "        vertical-align: top;\n",
              "    }\n",
              "\n",
              "    .dataframe thead th {\n",
              "        text-align: right;\n",
              "    }\n",
              "</style>\n",
              "<table border=\"1\" class=\"dataframe\">\n",
              "  <thead>\n",
              "    <tr style=\"text-align: right;\">\n",
              "      <th></th>\n",
              "      <th>0</th>\n",
              "      <th>1</th>\n",
              "      <th>2</th>\n",
              "    </tr>\n",
              "  </thead>\n",
              "  <tbody>\n",
              "    <tr>\n",
              "      <th>7524</th>\n",
              "      <td>23972</td>\n",
              "      <td>4</td>\n",
              "      <td>./G1/17805_Ch3.ome.jpg</td>\n",
              "    </tr>\n",
              "    <tr>\n",
              "      <th>61238</th>\n",
              "      <td>60912</td>\n",
              "      <td>5</td>\n",
              "      <td>./G2/41966_Ch6.ome.jpg</td>\n",
              "    </tr>\n",
              "    <tr>\n",
              "      <th>20688</th>\n",
              "      <td>34860</td>\n",
              "      <td>4</td>\n",
              "      <td>./G1/3152_Ch3.ome.jpg</td>\n",
              "    </tr>\n",
              "    <tr>\n",
              "      <th>71446</th>\n",
              "      <td>80034</td>\n",
              "      <td>6</td>\n",
              "      <td>./S/10959_Ch4.ome.jpg</td>\n",
              "    </tr>\n",
              "    <tr>\n",
              "      <th>39729</th>\n",
              "      <td>42978</td>\n",
              "      <td>4</td>\n",
              "      <td>./G1/6369_Ch3.ome.jpg</td>\n",
              "    </tr>\n",
              "    <tr>\n",
              "      <th>...</th>\n",
              "      <td>...</td>\n",
              "      <td>...</td>\n",
              "      <td>...</td>\n",
              "    </tr>\n",
              "    <tr>\n",
              "      <th>83376</th>\n",
              "      <td>92204</td>\n",
              "      <td>6</td>\n",
              "      <td>./S/31903_Ch3.ome.jpg</td>\n",
              "    </tr>\n",
              "    <tr>\n",
              "      <th>56985</th>\n",
              "      <td>47196</td>\n",
              "      <td>5</td>\n",
              "      <td>./G2/34651_Ch3.ome.jpg</td>\n",
              "    </tr>\n",
              "    <tr>\n",
              "      <th>70774</th>\n",
              "      <td>404</td>\n",
              "      <td>2</td>\n",
              "      <td>./Prophase/6702_Ch4.ome.jpg</td>\n",
              "    </tr>\n",
              "    <tr>\n",
              "      <th>88574</th>\n",
              "      <td>84683</td>\n",
              "      <td>6</td>\n",
              "      <td>./S/4104_Ch6.ome.jpg</td>\n",
              "    </tr>\n",
              "    <tr>\n",
              "      <th>5272</th>\n",
              "      <td>5030</td>\n",
              "      <td>4</td>\n",
              "      <td>./G1/15485_Ch4.ome.jpg</td>\n",
              "    </tr>\n",
              "  </tbody>\n",
              "</table>\n",
              "<p>96798 rows × 3 columns</p>\n",
              "</div>"
            ],
            "text/plain": [
              "           0  1                            2\n",
              "7524   23972  4       ./G1/17805_Ch3.ome.jpg\n",
              "61238  60912  5       ./G2/41966_Ch6.ome.jpg\n",
              "20688  34860  4        ./G1/3152_Ch3.ome.jpg\n",
              "71446  80034  6        ./S/10959_Ch4.ome.jpg\n",
              "39729  42978  4        ./G1/6369_Ch3.ome.jpg\n",
              "...      ... ..                          ...\n",
              "83376  92204  6        ./S/31903_Ch3.ome.jpg\n",
              "56985  47196  5       ./G2/34651_Ch3.ome.jpg\n",
              "70774    404  2  ./Prophase/6702_Ch4.ome.jpg\n",
              "88574  84683  6         ./S/4104_Ch6.ome.jpg\n",
              "5272    5030  4       ./G1/15485_Ch4.ome.jpg\n",
              "\n",
              "[96798 rows x 3 columns]"
            ]
          },
          "metadata": {
            "tags": []
          },
          "execution_count": 25
        }
      ]
    },
    {
      "cell_type": "code",
      "metadata": {
        "id": "W3ea9aqBK55w"
      },
      "source": [
        "#generate csv\r\n",
        "\r\n",
        "import os, csv\r\n",
        "\r\n",
        "cell_df = pd.DataFrame(list())\r\n",
        "cell_df.to_csv('cell_cycle.csv')\r\n",
        "\r\n",
        "f=open(\"cell_cycle.csv\",'r+')\r\n",
        "w=csv.writer(f)\r\n",
        "\r\n",
        "folders = [\"Anaphase\", \"G1\", \"G2\",\"Metaphase\", \"Prophase\", \"S\", \"Telophase\"]\r\n",
        "folders2 = [\"G1\",\"G2\",\"S\"]\r\n",
        "\r\n",
        "for f in folders2:\r\n",
        "  for path, dirs, files in os.walk(\"/content/CellCycle/\"+f+\"/\"):\r\n",
        "      for filename in files:\r\n",
        "          w.writerow([path+filename, f])\r\n"
      ],
      "execution_count": 26,
      "outputs": []
    },
    {
      "cell_type": "code",
      "metadata": {
        "id": "J0mTdAMONQZN",
        "colab": {
          "base_uri": "https://localhost:8080/",
          "height": 423
        },
        "outputId": "c7a9e431-db81-4ff5-9205-a3d583d7dd0f"
      },
      "source": [
        "c = pd.read_csv('./cell_cycle.csv', header=None)\r\n",
        "c.columns = [\"path\",\"class_name\"]\r\n",
        "print(c.class_name.unique())\r\n",
        "c"
      ],
      "execution_count": 27,
      "outputs": [
        {
          "output_type": "stream",
          "text": [
            "['G1' 'G2' 'S']\n"
          ],
          "name": "stdout"
        },
        {
          "output_type": "execute_result",
          "data": {
            "text/html": [
              "<div>\n",
              "<style scoped>\n",
              "    .dataframe tbody tr th:only-of-type {\n",
              "        vertical-align: middle;\n",
              "    }\n",
              "\n",
              "    .dataframe tbody tr th {\n",
              "        vertical-align: top;\n",
              "    }\n",
              "\n",
              "    .dataframe thead th {\n",
              "        text-align: right;\n",
              "    }\n",
              "</style>\n",
              "<table border=\"1\" class=\"dataframe\">\n",
              "  <thead>\n",
              "    <tr style=\"text-align: right;\">\n",
              "      <th></th>\n",
              "      <th>path</th>\n",
              "      <th>class_name</th>\n",
              "    </tr>\n",
              "  </thead>\n",
              "  <tbody>\n",
              "    <tr>\n",
              "      <th>0</th>\n",
              "      <td>/content/CellCycle/G1/1116_Ch4.ome.jpg</td>\n",
              "      <td>G1</td>\n",
              "    </tr>\n",
              "    <tr>\n",
              "      <th>1</th>\n",
              "      <td>/content/CellCycle/G1/37559_Ch4.ome.jpg</td>\n",
              "      <td>G1</td>\n",
              "    </tr>\n",
              "    <tr>\n",
              "      <th>2</th>\n",
              "      <td>/content/CellCycle/G1/23468_Ch6.ome.jpg</td>\n",
              "      <td>G1</td>\n",
              "    </tr>\n",
              "    <tr>\n",
              "      <th>3</th>\n",
              "      <td>/content/CellCycle/G1/41914_Ch4.ome.jpg</td>\n",
              "      <td>G1</td>\n",
              "    </tr>\n",
              "    <tr>\n",
              "      <th>4</th>\n",
              "      <td>/content/CellCycle/G1/25002_Ch6.ome.jpg</td>\n",
              "      <td>G1</td>\n",
              "    </tr>\n",
              "    <tr>\n",
              "      <th>...</th>\n",
              "      <td>...</td>\n",
              "      <td>...</td>\n",
              "    </tr>\n",
              "    <tr>\n",
              "      <th>126195</th>\n",
              "      <td>/content/CellCycle/S/41224_Ch3.ome.jpg</td>\n",
              "      <td>S</td>\n",
              "    </tr>\n",
              "    <tr>\n",
              "      <th>126196</th>\n",
              "      <td>/content/CellCycle/S/33343_Ch4.ome.jpg</td>\n",
              "      <td>S</td>\n",
              "    </tr>\n",
              "    <tr>\n",
              "      <th>126197</th>\n",
              "      <td>/content/CellCycle/S/30851_merged.jpg</td>\n",
              "      <td>S</td>\n",
              "    </tr>\n",
              "    <tr>\n",
              "      <th>126198</th>\n",
              "      <td>/content/CellCycle/S/48879_Ch4.ome.jpg</td>\n",
              "      <td>S</td>\n",
              "    </tr>\n",
              "    <tr>\n",
              "      <th>126199</th>\n",
              "      <td>/content/CellCycle/S/47689_Ch4.ome.jpg</td>\n",
              "      <td>S</td>\n",
              "    </tr>\n",
              "  </tbody>\n",
              "</table>\n",
              "<p>126200 rows × 2 columns</p>\n",
              "</div>"
            ],
            "text/plain": [
              "                                           path class_name\n",
              "0        /content/CellCycle/G1/1116_Ch4.ome.jpg         G1\n",
              "1       /content/CellCycle/G1/37559_Ch4.ome.jpg         G1\n",
              "2       /content/CellCycle/G1/23468_Ch6.ome.jpg         G1\n",
              "3       /content/CellCycle/G1/41914_Ch4.ome.jpg         G1\n",
              "4       /content/CellCycle/G1/25002_Ch6.ome.jpg         G1\n",
              "...                                         ...        ...\n",
              "126195   /content/CellCycle/S/41224_Ch3.ome.jpg          S\n",
              "126196   /content/CellCycle/S/33343_Ch4.ome.jpg          S\n",
              "126197    /content/CellCycle/S/30851_merged.jpg          S\n",
              "126198   /content/CellCycle/S/48879_Ch4.ome.jpg          S\n",
              "126199   /content/CellCycle/S/47689_Ch4.ome.jpg          S\n",
              "\n",
              "[126200 rows x 2 columns]"
            ]
          },
          "metadata": {
            "tags": []
          },
          "execution_count": 27
        }
      ]
    },
    {
      "cell_type": "code",
      "metadata": {
        "id": "0AYegRBWPEXf",
        "colab": {
          "base_uri": "https://localhost:8080/",
          "height": 406
        },
        "outputId": "ede1d1a2-8642-4ec3-d92a-26df441ac047"
      },
      "source": [
        "#delete non merged rows\r\n",
        "c_merged=c[c.path.str[-10:] == \"merged.jpg\"]\r\n",
        "c_merged.to_csv(\"cell_merged.csv\")\r\n",
        "c_merged"
      ],
      "execution_count": 28,
      "outputs": [
        {
          "output_type": "execute_result",
          "data": {
            "text/html": [
              "<div>\n",
              "<style scoped>\n",
              "    .dataframe tbody tr th:only-of-type {\n",
              "        vertical-align: middle;\n",
              "    }\n",
              "\n",
              "    .dataframe tbody tr th {\n",
              "        vertical-align: top;\n",
              "    }\n",
              "\n",
              "    .dataframe thead th {\n",
              "        text-align: right;\n",
              "    }\n",
              "</style>\n",
              "<table border=\"1\" class=\"dataframe\">\n",
              "  <thead>\n",
              "    <tr style=\"text-align: right;\">\n",
              "      <th></th>\n",
              "      <th>path</th>\n",
              "      <th>class_name</th>\n",
              "    </tr>\n",
              "  </thead>\n",
              "  <tbody>\n",
              "    <tr>\n",
              "      <th>6</th>\n",
              "      <td>/content/CellCycle/G1/28877_merged.jpg</td>\n",
              "      <td>G1</td>\n",
              "    </tr>\n",
              "    <tr>\n",
              "      <th>9</th>\n",
              "      <td>/content/CellCycle/G1/47128_merged.jpg</td>\n",
              "      <td>G1</td>\n",
              "    </tr>\n",
              "    <tr>\n",
              "      <th>15</th>\n",
              "      <td>/content/CellCycle/G1/20256_merged.jpg</td>\n",
              "      <td>G1</td>\n",
              "    </tr>\n",
              "    <tr>\n",
              "      <th>19</th>\n",
              "      <td>/content/CellCycle/G1/25811_merged.jpg</td>\n",
              "      <td>G1</td>\n",
              "    </tr>\n",
              "    <tr>\n",
              "      <th>26</th>\n",
              "      <td>/content/CellCycle/G1/30444_merged.jpg</td>\n",
              "      <td>G1</td>\n",
              "    </tr>\n",
              "    <tr>\n",
              "      <th>...</th>\n",
              "      <td>...</td>\n",
              "      <td>...</td>\n",
              "    </tr>\n",
              "    <tr>\n",
              "      <th>126173</th>\n",
              "      <td>/content/CellCycle/S/19411_merged.jpg</td>\n",
              "      <td>S</td>\n",
              "    </tr>\n",
              "    <tr>\n",
              "      <th>126177</th>\n",
              "      <td>/content/CellCycle/S/37857_merged.jpg</td>\n",
              "      <td>S</td>\n",
              "    </tr>\n",
              "    <tr>\n",
              "      <th>126178</th>\n",
              "      <td>/content/CellCycle/S/48625_merged.jpg</td>\n",
              "      <td>S</td>\n",
              "    </tr>\n",
              "    <tr>\n",
              "      <th>126181</th>\n",
              "      <td>/content/CellCycle/S/13067_merged.jpg</td>\n",
              "      <td>S</td>\n",
              "    </tr>\n",
              "    <tr>\n",
              "      <th>126197</th>\n",
              "      <td>/content/CellCycle/S/30851_merged.jpg</td>\n",
              "      <td>S</td>\n",
              "    </tr>\n",
              "  </tbody>\n",
              "</table>\n",
              "<p>31550 rows × 2 columns</p>\n",
              "</div>"
            ],
            "text/plain": [
              "                                          path class_name\n",
              "6       /content/CellCycle/G1/28877_merged.jpg         G1\n",
              "9       /content/CellCycle/G1/47128_merged.jpg         G1\n",
              "15      /content/CellCycle/G1/20256_merged.jpg         G1\n",
              "19      /content/CellCycle/G1/25811_merged.jpg         G1\n",
              "26      /content/CellCycle/G1/30444_merged.jpg         G1\n",
              "...                                        ...        ...\n",
              "126173   /content/CellCycle/S/19411_merged.jpg          S\n",
              "126177   /content/CellCycle/S/37857_merged.jpg          S\n",
              "126178   /content/CellCycle/S/48625_merged.jpg          S\n",
              "126181   /content/CellCycle/S/13067_merged.jpg          S\n",
              "126197   /content/CellCycle/S/30851_merged.jpg          S\n",
              "\n",
              "[31550 rows x 2 columns]"
            ]
          },
          "metadata": {
            "tags": []
          },
          "execution_count": 28
        }
      ]
    },
    {
      "cell_type": "code",
      "metadata": {
        "id": "lQW8cAUgfjIh"
      },
      "source": [
        "def image_to_nparray(path):\r\n",
        "    i = cv2.imread(path)\r\n",
        "    i = cv2.cvtColor(i, cv2.COLOR_BGR2RGB)\r\n",
        "    return(np.array(i))"
      ],
      "execution_count": 63,
      "outputs": []
    },
    {
      "cell_type": "code",
      "metadata": {
        "id": "aGNcQSSj9YxQ"
      },
      "source": [
        "class C_Dataset(Dataset):\r\n",
        "    \"\"\"custom\"\"\"\r\n",
        "\r\n",
        "    def __init__(self, csv, root_dir='',augmentation=None, transform=None):\r\n",
        "        \r\n",
        "        \"\"\"\r\n",
        "        Args:\r\n",
        "            csv_file (string): Path to the csv file with annotations.\r\n",
        "            root_dir (string): Directory with all the images.\r\n",
        "            transform (callable, optional): Optional transform to be applied\r\n",
        "                on a sample.\r\n",
        "        \"\"\"\r\n",
        "        \r\n",
        "        self.transform = transform\r\n",
        "        self.root_dir = root_dir\r\n",
        "        self.d = csv\r\n",
        "        self.augmentation = augmentation\r\n",
        "        self.class_dict = {'G1':0,\r\n",
        "                           'S': 1,\r\n",
        "                           'G2':2}\r\n",
        "        \r\n",
        "    def __getitem__(self, idx): \r\n",
        "\r\n",
        "        smol_img_path = str(self.d.iloc[idx][1]) #image path column\r\n",
        "        #print(smol_img_path)\r\n",
        "        class_name = str(self.d.iloc[idx][2])  #class name column\r\n",
        "        #print(\"class............\",class_name)\r\n",
        "        #print(class_name)\r\n",
        "        full_img_path = self.root_dir + smol_img_path #+ '.png'\r\n",
        "\r\n",
        "        #print(full_img_path)\r\n",
        "\r\n",
        "        img_arr = image_to_nparray(full_img_path)\r\n",
        "\r\n",
        "        if self.augmentation is not None:\r\n",
        "            img  = self.augmentation(image = img_arr)\r\n",
        "            img2 = img[\"image\"]\r\n",
        "            #print(img2)\r\n",
        "\r\n",
        "        if self.transform is not None:\r\n",
        "            img_ret = self.transform(img2)\r\n",
        "            #print(img_ret)\r\n",
        "        \r\n",
        "        #return self.class_dict[str(class_name)], img_ret\r\n",
        "        return {\"x\": img_ret,\r\n",
        "                \"y\": torch.tensor(self.class_dict[str(class_name)])\r\n",
        "        }\r\n",
        "\r\n",
        "\r\n",
        "    def __len__(self):\r\n",
        "      \r\n",
        "        return (len(self.d))\r\n"
      ],
      "execution_count": 100,
      "outputs": []
    },
    {
      "cell_type": "code",
      "metadata": {
        "id": "PCFv5EMKQo07"
      },
      "source": [
        "data = C_Dataset(pd.read_csv('/content/cell_merged.csv'), \r\n",
        "                 '',\r\n",
        "                 augmentation = Compose([ \r\n",
        "                                        RandomBrightnessContrast( p=0.9),\r\n",
        "                                        Rotate(limit=30, interpolation=1, border_mode=4, always_apply=True, p=0.9)\r\n",
        "                                        ]),\r\n",
        "                transform = transforms.Compose([    \r\n",
        "                                                transforms.ToPILImage(),\r\n",
        "                                                transforms.Resize((224,224)),\r\n",
        "                                                transforms.CenterCrop((128,128)),\r\n",
        "                                                transforms.ToTensor()\r\n",
        "                                                ])\r\n",
        "                )"
      ],
      "execution_count": 110,
      "outputs": []
    },
    {
      "cell_type": "code",
      "metadata": {
        "id": "j-CV87fydw4v",
        "colab": {
          "base_uri": "https://localhost:8080/",
          "height": 316,
          "referenced_widgets": [
            "9f13ae2b0cd249f7bba2588a451fc860",
            "011929d1a5524b49a32d1b90fde61e0d",
            "196128ecea0b47de93d49cd2078b0137",
            "0f2223ac236942b0828cb8854caa7c8d",
            "95d7ca94fa3e4f7091a47a1ee5f8bdec",
            "770643677e3e45a5925e5fec1225927a",
            "6abc9134d3cd41458340bbce123d31b0",
            "fe7545a7ea17408496edcbf1f72931d0"
          ]
        },
        "outputId": "67013fdc-7f4c-4450-94cb-2b8d9f138460"
      },
      "source": [
        "train_loader = torch.utils.data.DataLoader(\r\n",
        "    data\r\n",
        "    ,batch_size=10\r\n",
        "    ,shuffle=True\r\n",
        "    # ,pin_memory=True\r\n",
        "    # ,num_workers=4\r\n",
        ")\r\n",
        "\r\n",
        "for data in tqdm(train_loader):\r\n",
        "    print(\"size: \",data['x'][0].size())\r\n",
        "    plt.imshow(data['x'][0].permute(1,2,0))\r\n",
        "    plt.show()\r\n",
        "    break"
      ],
      "execution_count": 111,
      "outputs": [
        {
          "output_type": "display_data",
          "data": {
            "application/vnd.jupyter.widget-view+json": {
              "model_id": "9f13ae2b0cd249f7bba2588a451fc860",
              "version_minor": 0,
              "version_major": 2
            },
            "text/plain": [
              "HBox(children=(FloatProgress(value=0.0, max=3155.0), HTML(value='')))"
            ]
          },
          "metadata": {
            "tags": []
          }
        },
        {
          "output_type": "stream",
          "text": [
            "size:  torch.Size([3, 128, 128])\n"
          ],
          "name": "stdout"
        },
        {
          "output_type": "display_data",
          "data": {
            "image/png": "[encoded data removed]",
            "text/plain": [
              "<Figure size 432x288 with 1 Axes>"
            ]
          },
          "metadata": {
            "tags": [],
            "needs_background": "light"
          }
        }
      ]
    },
    {
      "cell_type": "code",
      "metadata": {
        "id": "MQGyvFYABLYh"
      },
      "source": [
        ""
      ],
      "execution_count": null,
      "outputs": []
    }
  ]
}